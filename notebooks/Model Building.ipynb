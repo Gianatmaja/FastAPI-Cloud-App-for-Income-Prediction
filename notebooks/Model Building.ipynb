{
 "cells": [
  {
   "cell_type": "markdown",
   "id": "b992449e",
   "metadata": {},
   "source": [
    "# Model Building\n",
    "\n",
    "In this notebook, we will be building ML models to predict whether a person is earning more or less than $50K.\n",
    "\n",
    "The data used is the open-source [Census Dataset](https://archive.ics.uci.edu/ml/datasets/census+income), obtained from UCL ML Repository."
   ]
  },
  {
   "cell_type": "markdown",
   "id": "7d72e8ca",
   "metadata": {},
   "source": [
    "## Setup\n",
    "\n",
    "First, we import required libraries and read the data."
   ]
  },
  {
   "cell_type": "code",
   "execution_count": 1,
   "id": "d80d27c0",
   "metadata": {},
   "outputs": [],
   "source": [
    "# Import required libraries\n",
    "import numpy as np\n",
    "import pandas as pd\n",
    "import warnings\n",
    "\n",
    "from sklearn.preprocessing import LabelEncoder\n",
    "from sklearn.preprocessing import RobustScaler\n",
    "from sklearn.model_selection import train_test_split\n",
    "from sklearn.linear_model import LogisticRegression\n",
    "from sklearn.metrics import accuracy_score, precision_score, recall_score, f1_score\n",
    "from sklearn.metrics import classification_report\n",
    "from sklearn.model_selection import GridSearchCV, StratifiedKFold\n",
    "from sklearn.svm import SVC\n",
    "from xgboost import XGBClassifier\n",
    "from pickle import dump\n",
    "from pickle import load\n",
    "\n",
    "warnings.simplefilter(action='ignore', category=FutureWarning)\n",
    "pd.options.mode.chained_assignment = None"
   ]
  },
  {
   "cell_type": "code",
   "execution_count": 2,
   "id": "9b535be0",
   "metadata": {},
   "outputs": [],
   "source": [
    "# Read in data\n",
    "df = pd.read_csv('../data/census_intermediate.csv')"
   ]
  },
  {
   "cell_type": "code",
   "execution_count": 3,
   "id": "e51f5122",
   "metadata": {},
   "outputs": [
    {
     "data": {
      "text/html": [
       "<div>\n",
       "<style scoped>\n",
       "    .dataframe tbody tr th:only-of-type {\n",
       "        vertical-align: middle;\n",
       "    }\n",
       "\n",
       "    .dataframe tbody tr th {\n",
       "        vertical-align: top;\n",
       "    }\n",
       "\n",
       "    .dataframe thead th {\n",
       "        text-align: right;\n",
       "    }\n",
       "</style>\n",
       "<table border=\"1\" class=\"dataframe\">\n",
       "  <thead>\n",
       "    <tr style=\"text-align: right;\">\n",
       "      <th></th>\n",
       "      <th>age</th>\n",
       "      <th>workclass</th>\n",
       "      <th>fnlgt</th>\n",
       "      <th>education</th>\n",
       "      <th>education-num</th>\n",
       "      <th>marital-status</th>\n",
       "      <th>occupation</th>\n",
       "      <th>relationship</th>\n",
       "      <th>race</th>\n",
       "      <th>sex</th>\n",
       "      <th>capital-gain</th>\n",
       "      <th>capital-loss</th>\n",
       "      <th>hours-per-week</th>\n",
       "      <th>native-country</th>\n",
       "      <th>salary</th>\n",
       "    </tr>\n",
       "  </thead>\n",
       "  <tbody>\n",
       "    <tr>\n",
       "      <th>0</th>\n",
       "      <td>39</td>\n",
       "      <td>State-gov</td>\n",
       "      <td>77516</td>\n",
       "      <td>Bachelors</td>\n",
       "      <td>13</td>\n",
       "      <td>Never-married</td>\n",
       "      <td>Adm-clerical</td>\n",
       "      <td>Not-in-family</td>\n",
       "      <td>White</td>\n",
       "      <td>Male</td>\n",
       "      <td>2174</td>\n",
       "      <td>0</td>\n",
       "      <td>40</td>\n",
       "      <td>United-States</td>\n",
       "      <td>&lt;=50K</td>\n",
       "    </tr>\n",
       "    <tr>\n",
       "      <th>1</th>\n",
       "      <td>50</td>\n",
       "      <td>Self-emp-not-inc</td>\n",
       "      <td>83311</td>\n",
       "      <td>Bachelors</td>\n",
       "      <td>13</td>\n",
       "      <td>Married-civ-spouse</td>\n",
       "      <td>Exec-managerial</td>\n",
       "      <td>Husband</td>\n",
       "      <td>White</td>\n",
       "      <td>Male</td>\n",
       "      <td>0</td>\n",
       "      <td>0</td>\n",
       "      <td>13</td>\n",
       "      <td>United-States</td>\n",
       "      <td>&lt;=50K</td>\n",
       "    </tr>\n",
       "    <tr>\n",
       "      <th>2</th>\n",
       "      <td>38</td>\n",
       "      <td>Private</td>\n",
       "      <td>215646</td>\n",
       "      <td>HS-grad</td>\n",
       "      <td>9</td>\n",
       "      <td>Divorced</td>\n",
       "      <td>Handlers-cleaners</td>\n",
       "      <td>Not-in-family</td>\n",
       "      <td>White</td>\n",
       "      <td>Male</td>\n",
       "      <td>0</td>\n",
       "      <td>0</td>\n",
       "      <td>40</td>\n",
       "      <td>United-States</td>\n",
       "      <td>&lt;=50K</td>\n",
       "    </tr>\n",
       "    <tr>\n",
       "      <th>3</th>\n",
       "      <td>53</td>\n",
       "      <td>Private</td>\n",
       "      <td>234721</td>\n",
       "      <td>11th</td>\n",
       "      <td>7</td>\n",
       "      <td>Married-civ-spouse</td>\n",
       "      <td>Handlers-cleaners</td>\n",
       "      <td>Husband</td>\n",
       "      <td>Black</td>\n",
       "      <td>Male</td>\n",
       "      <td>0</td>\n",
       "      <td>0</td>\n",
       "      <td>40</td>\n",
       "      <td>United-States</td>\n",
       "      <td>&lt;=50K</td>\n",
       "    </tr>\n",
       "    <tr>\n",
       "      <th>4</th>\n",
       "      <td>28</td>\n",
       "      <td>Private</td>\n",
       "      <td>338409</td>\n",
       "      <td>Bachelors</td>\n",
       "      <td>13</td>\n",
       "      <td>Married-civ-spouse</td>\n",
       "      <td>Prof-specialty</td>\n",
       "      <td>Wife</td>\n",
       "      <td>Black</td>\n",
       "      <td>Female</td>\n",
       "      <td>0</td>\n",
       "      <td>0</td>\n",
       "      <td>40</td>\n",
       "      <td>Cuba</td>\n",
       "      <td>&lt;=50K</td>\n",
       "    </tr>\n",
       "  </tbody>\n",
       "</table>\n",
       "</div>"
      ],
      "text/plain": [
       "   age         workclass   fnlgt  education  education-num  \\\n",
       "0   39         State-gov   77516  Bachelors             13   \n",
       "1   50  Self-emp-not-inc   83311  Bachelors             13   \n",
       "2   38           Private  215646    HS-grad              9   \n",
       "3   53           Private  234721       11th              7   \n",
       "4   28           Private  338409  Bachelors             13   \n",
       "\n",
       "       marital-status         occupation   relationship   race      sex  \\\n",
       "0       Never-married       Adm-clerical  Not-in-family  White     Male   \n",
       "1  Married-civ-spouse    Exec-managerial        Husband  White     Male   \n",
       "2            Divorced  Handlers-cleaners  Not-in-family  White     Male   \n",
       "3  Married-civ-spouse  Handlers-cleaners        Husband  Black     Male   \n",
       "4  Married-civ-spouse     Prof-specialty           Wife  Black   Female   \n",
       "\n",
       "   capital-gain  capital-loss  hours-per-week native-country salary  \n",
       "0          2174             0              40  United-States  <=50K  \n",
       "1             0             0              13  United-States  <=50K  \n",
       "2             0             0              40  United-States  <=50K  \n",
       "3             0             0              40  United-States  <=50K  \n",
       "4             0             0              40           Cuba  <=50K  "
      ]
     },
     "execution_count": 3,
     "metadata": {},
     "output_type": "execute_result"
    }
   ],
   "source": [
    "# Display snippet of data\n",
    "df.head(5)"
   ]
  },
  {
   "cell_type": "markdown",
   "id": "6689cfaa",
   "metadata": {},
   "source": [
    "## Data Preprocessing\n",
    "\n",
    "Next, we perform some data preprocessing, to get the data ready for ML Modelling."
   ]
  },
  {
   "cell_type": "code",
   "execution_count": 4,
   "id": "b8f79ef7",
   "metadata": {},
   "outputs": [
    {
     "name": "stdout",
     "output_type": "stream",
     "text": [
      "workclass\n",
      "{'?': 0, 'Federal-gov': 1, 'Local-gov': 2, 'Never-worked': 3, 'Private': 4, 'Self-emp-inc': 5, 'Self-emp-not-inc': 6, 'State-gov': 7, 'Without-pay': 8}\n",
      "Saved encoder to model/ \n",
      "\n",
      "marital-status\n",
      "{'Divorced': 0, 'Married-AF-spouse': 1, 'Married-civ-spouse': 2, 'Married-spouse-absent': 3, 'Never-married': 4, 'Separated': 5, 'Widowed': 6}\n",
      "Saved encoder to model/ \n",
      "\n",
      "occupation\n",
      "{'?': 0, 'Adm-clerical': 1, 'Armed-Forces': 2, 'Craft-repair': 3, 'Exec-managerial': 4, 'Farming-fishing': 5, 'Handlers-cleaners': 6, 'Machine-op-inspct': 7, 'Other-service': 8, 'Priv-house-serv': 9, 'Prof-specialty': 10, 'Protective-serv': 11, 'Sales': 12, 'Tech-support': 13, 'Transport-moving': 14}\n",
      "Saved encoder to model/ \n",
      "\n",
      "relationship\n",
      "{'Husband': 0, 'Not-in-family': 1, 'Other-relative': 2, 'Own-child': 3, 'Unmarried': 4, 'Wife': 5}\n",
      "Saved encoder to model/ \n",
      "\n",
      "race\n",
      "{'Amer-Indian-Eskimo': 0, 'Asian-Pac-Islander': 1, 'Black': 2, 'Other': 3, 'White': 4}\n",
      "Saved encoder to model/ \n",
      "\n",
      "sex\n",
      "{' Female': 0, ' Male': 1}\n",
      "Saved encoder to model/ \n",
      "\n",
      "native-country\n",
      "{'?': 0, 'Cambodia': 1, 'Canada': 2, 'China': 3, 'Columbia': 4, 'Cuba': 5, 'Dominican-Republic': 6, 'Ecuador': 7, 'El-Salvador': 8, 'England': 9, 'France': 10, 'Germany': 11, 'Greece': 12, 'Guatemala': 13, 'Haiti': 14, 'Holand-Netherlands': 15, 'Honduras': 16, 'Hong': 17, 'Hungary': 18, 'India': 19, 'Iran': 20, 'Ireland': 21, 'Italy': 22, 'Jamaica': 23, 'Japan': 24, 'Laos': 25, 'Mexico': 26, 'Nicaragua': 27, 'Outlying-US(Guam-USVI-etc)': 28, 'Peru': 29, 'Philippines': 30, 'Poland': 31, 'Portugal': 32, 'Puerto-Rico': 33, 'Scotland': 34, 'South': 35, 'Taiwan': 36, 'Thailand': 37, 'Trinadad&Tobago': 38, 'United-States': 39, 'Vietnam': 40, 'Yugoslavia': 41}\n",
      "Saved encoder to model/ \n",
      "\n"
     ]
    }
   ],
   "source": [
    "# Encode categorical features and save encoder\n",
    "LE_Features = ['workclass', 'marital-status', 'occupation', \n",
    "               'relationship', 'race','sex', 'native-country']\n",
    "\n",
    "for feature in LE_Features:\n",
    "    le = LabelEncoder()\n",
    "    df[feature] = le.fit_transform(df[feature])\n",
    "    \n",
    "    mapping = dict(zip(le.classes_, range(len(le.classes_))))\n",
    "    print(feature)\n",
    "    print(mapping)\n",
    "    filepath = '../model/{}_encoder.pkl'.format(feature)\n",
    "    #dump(le, open(filepath, 'wb'))\n",
    "    print('Saved encoder to model/', '\\n')"
   ]
  },
  {
   "cell_type": "code",
   "execution_count": 5,
   "id": "45d10688",
   "metadata": {},
   "outputs": [
    {
     "data": {
      "text/html": [
       "<div>\n",
       "<style scoped>\n",
       "    .dataframe tbody tr th:only-of-type {\n",
       "        vertical-align: middle;\n",
       "    }\n",
       "\n",
       "    .dataframe tbody tr th {\n",
       "        vertical-align: top;\n",
       "    }\n",
       "\n",
       "    .dataframe thead th {\n",
       "        text-align: right;\n",
       "    }\n",
       "</style>\n",
       "<table border=\"1\" class=\"dataframe\">\n",
       "  <thead>\n",
       "    <tr style=\"text-align: right;\">\n",
       "      <th></th>\n",
       "      <th>age</th>\n",
       "      <th>workclass</th>\n",
       "      <th>fnlgt</th>\n",
       "      <th>education</th>\n",
       "      <th>education-num</th>\n",
       "      <th>marital-status</th>\n",
       "      <th>occupation</th>\n",
       "      <th>relationship</th>\n",
       "      <th>race</th>\n",
       "      <th>sex</th>\n",
       "      <th>capital-gain</th>\n",
       "      <th>capital-loss</th>\n",
       "      <th>hours-per-week</th>\n",
       "      <th>native-country</th>\n",
       "      <th>salary</th>\n",
       "    </tr>\n",
       "  </thead>\n",
       "  <tbody>\n",
       "    <tr>\n",
       "      <th>0</th>\n",
       "      <td>39</td>\n",
       "      <td>7</td>\n",
       "      <td>77516</td>\n",
       "      <td>Bachelors</td>\n",
       "      <td>13</td>\n",
       "      <td>4</td>\n",
       "      <td>1</td>\n",
       "      <td>1</td>\n",
       "      <td>4</td>\n",
       "      <td>1</td>\n",
       "      <td>2174</td>\n",
       "      <td>0</td>\n",
       "      <td>40</td>\n",
       "      <td>39</td>\n",
       "      <td>&lt;=50K</td>\n",
       "    </tr>\n",
       "    <tr>\n",
       "      <th>1</th>\n",
       "      <td>50</td>\n",
       "      <td>6</td>\n",
       "      <td>83311</td>\n",
       "      <td>Bachelors</td>\n",
       "      <td>13</td>\n",
       "      <td>2</td>\n",
       "      <td>4</td>\n",
       "      <td>0</td>\n",
       "      <td>4</td>\n",
       "      <td>1</td>\n",
       "      <td>0</td>\n",
       "      <td>0</td>\n",
       "      <td>13</td>\n",
       "      <td>39</td>\n",
       "      <td>&lt;=50K</td>\n",
       "    </tr>\n",
       "    <tr>\n",
       "      <th>2</th>\n",
       "      <td>38</td>\n",
       "      <td>4</td>\n",
       "      <td>215646</td>\n",
       "      <td>HS-grad</td>\n",
       "      <td>9</td>\n",
       "      <td>0</td>\n",
       "      <td>6</td>\n",
       "      <td>1</td>\n",
       "      <td>4</td>\n",
       "      <td>1</td>\n",
       "      <td>0</td>\n",
       "      <td>0</td>\n",
       "      <td>40</td>\n",
       "      <td>39</td>\n",
       "      <td>&lt;=50K</td>\n",
       "    </tr>\n",
       "    <tr>\n",
       "      <th>3</th>\n",
       "      <td>53</td>\n",
       "      <td>4</td>\n",
       "      <td>234721</td>\n",
       "      <td>11th</td>\n",
       "      <td>7</td>\n",
       "      <td>2</td>\n",
       "      <td>6</td>\n",
       "      <td>0</td>\n",
       "      <td>2</td>\n",
       "      <td>1</td>\n",
       "      <td>0</td>\n",
       "      <td>0</td>\n",
       "      <td>40</td>\n",
       "      <td>39</td>\n",
       "      <td>&lt;=50K</td>\n",
       "    </tr>\n",
       "    <tr>\n",
       "      <th>4</th>\n",
       "      <td>28</td>\n",
       "      <td>4</td>\n",
       "      <td>338409</td>\n",
       "      <td>Bachelors</td>\n",
       "      <td>13</td>\n",
       "      <td>2</td>\n",
       "      <td>10</td>\n",
       "      <td>5</td>\n",
       "      <td>2</td>\n",
       "      <td>0</td>\n",
       "      <td>0</td>\n",
       "      <td>0</td>\n",
       "      <td>40</td>\n",
       "      <td>5</td>\n",
       "      <td>&lt;=50K</td>\n",
       "    </tr>\n",
       "  </tbody>\n",
       "</table>\n",
       "</div>"
      ],
      "text/plain": [
       "   age  workclass   fnlgt  education  education-num  marital-status  \\\n",
       "0   39          7   77516  Bachelors             13               4   \n",
       "1   50          6   83311  Bachelors             13               2   \n",
       "2   38          4  215646    HS-grad              9               0   \n",
       "3   53          4  234721       11th              7               2   \n",
       "4   28          4  338409  Bachelors             13               2   \n",
       "\n",
       "   occupation  relationship  race  sex  capital-gain  capital-loss  \\\n",
       "0           1             1     4    1          2174             0   \n",
       "1           4             0     4    1             0             0   \n",
       "2           6             1     4    1             0             0   \n",
       "3           6             0     2    1             0             0   \n",
       "4          10             5     2    0             0             0   \n",
       "\n",
       "   hours-per-week  native-country salary  \n",
       "0              40              39  <=50K  \n",
       "1              13              39  <=50K  \n",
       "2              40              39  <=50K  \n",
       "3              40              39  <=50K  \n",
       "4              40               5  <=50K  "
      ]
     },
     "execution_count": 5,
     "metadata": {},
     "output_type": "execute_result"
    }
   ],
   "source": [
    "# Display snippet of data\n",
    "df.head()"
   ]
  },
  {
   "cell_type": "code",
   "execution_count": 6,
   "id": "8050a8a1",
   "metadata": {},
   "outputs": [],
   "source": [
    "# Drop unnecessary columns\n",
    "df.drop('education', axis = 1, inplace = True)"
   ]
  },
  {
   "cell_type": "code",
   "execution_count": 7,
   "id": "9529cc36",
   "metadata": {},
   "outputs": [],
   "source": [
    "# Encode target feature\n",
    "df['salary'] = df['salary'].replace({'<=50K': 0, '>50K':1})"
   ]
  },
  {
   "cell_type": "markdown",
   "id": "10ed1769",
   "metadata": {},
   "source": [
    "## ML Modelling\n",
    "\n",
    "After preprocessing, the data will be ready for ML development."
   ]
  },
  {
   "cell_type": "code",
   "execution_count": 8,
   "id": "64387701",
   "metadata": {},
   "outputs": [],
   "source": [
    "# Get X and y features\n",
    "y = df['salary']\n",
    "X = df.drop('salary', axis = 1)"
   ]
  },
  {
   "cell_type": "code",
   "execution_count": 9,
   "id": "edd8c254",
   "metadata": {},
   "outputs": [],
   "source": [
    "# Split data into training and testing\n",
    "X_train, X_test, y_train, y_test = train_test_split(X, y, test_size = 0.2, random_state = 1)"
   ]
  },
  {
   "cell_type": "code",
   "execution_count": 10,
   "id": "424c21ee",
   "metadata": {},
   "outputs": [],
   "source": [
    "# Scale X features\n",
    "scaler = RobustScaler().fit(X_train)\n",
    "\n",
    "X_train = scaler.transform(X_train)\n",
    "X_test = scaler.transform(X_test)"
   ]
  },
  {
   "cell_type": "code",
   "execution_count": 11,
   "id": "0a9da7b5",
   "metadata": {},
   "outputs": [],
   "source": [
    "# Save scaler\n",
    "filepath = '../model/robust_scaler.pkl'\n",
    "#dump(scaler, open(filepath, 'wb'))"
   ]
  },
  {
   "cell_type": "code",
   "execution_count": 12,
   "id": "8cd857a2",
   "metadata": {},
   "outputs": [
    {
     "data": {
      "text/plain": [
       "0.8284968524489482"
      ]
     },
     "execution_count": 12,
     "metadata": {},
     "output_type": "execute_result"
    }
   ],
   "source": [
    "# Initial model - Logistic regression\n",
    "Log_model = LogisticRegression(max_iter = 1000).fit(X_train, y_train)\n",
    "y_pred_lr = Log_model.predict(X_test)\n",
    "accuracy_score(y_test, y_pred_lr)"
   ]
  },
  {
   "cell_type": "code",
   "execution_count": 13,
   "id": "fe815f3b",
   "metadata": {},
   "outputs": [
    {
     "name": "stdout",
     "output_type": "stream",
     "text": [
      "              precision    recall  f1-score   support\n",
      "\n",
      "           0       0.85      0.94      0.89      5026\n",
      "           1       0.69      0.45      0.54      1487\n",
      "\n",
      "    accuracy                           0.83      6513\n",
      "   macro avg       0.77      0.69      0.72      6513\n",
      "weighted avg       0.82      0.83      0.81      6513\n",
      "\n"
     ]
    }
   ],
   "source": [
    "# Get classification report\n",
    "print(classification_report(y_test, y_pred_lr))"
   ]
  },
  {
   "cell_type": "code",
   "execution_count": 14,
   "id": "d93988d3",
   "metadata": {},
   "outputs": [
    {
     "data": {
      "text/html": [
       "<style>#sk-container-id-1 {color: black;background-color: white;}#sk-container-id-1 pre{padding: 0;}#sk-container-id-1 div.sk-toggleable {background-color: white;}#sk-container-id-1 label.sk-toggleable__label {cursor: pointer;display: block;width: 100%;margin-bottom: 0;padding: 0.3em;box-sizing: border-box;text-align: center;}#sk-container-id-1 label.sk-toggleable__label-arrow:before {content: \"▸\";float: left;margin-right: 0.25em;color: #696969;}#sk-container-id-1 label.sk-toggleable__label-arrow:hover:before {color: black;}#sk-container-id-1 div.sk-estimator:hover label.sk-toggleable__label-arrow:before {color: black;}#sk-container-id-1 div.sk-toggleable__content {max-height: 0;max-width: 0;overflow: hidden;text-align: left;background-color: #f0f8ff;}#sk-container-id-1 div.sk-toggleable__content pre {margin: 0.2em;color: black;border-radius: 0.25em;background-color: #f0f8ff;}#sk-container-id-1 input.sk-toggleable__control:checked~div.sk-toggleable__content {max-height: 200px;max-width: 100%;overflow: auto;}#sk-container-id-1 input.sk-toggleable__control:checked~label.sk-toggleable__label-arrow:before {content: \"▾\";}#sk-container-id-1 div.sk-estimator input.sk-toggleable__control:checked~label.sk-toggleable__label {background-color: #d4ebff;}#sk-container-id-1 div.sk-label input.sk-toggleable__control:checked~label.sk-toggleable__label {background-color: #d4ebff;}#sk-container-id-1 input.sk-hidden--visually {border: 0;clip: rect(1px 1px 1px 1px);clip: rect(1px, 1px, 1px, 1px);height: 1px;margin: -1px;overflow: hidden;padding: 0;position: absolute;width: 1px;}#sk-container-id-1 div.sk-estimator {font-family: monospace;background-color: #f0f8ff;border: 1px dotted black;border-radius: 0.25em;box-sizing: border-box;margin-bottom: 0.5em;}#sk-container-id-1 div.sk-estimator:hover {background-color: #d4ebff;}#sk-container-id-1 div.sk-parallel-item::after {content: \"\";width: 100%;border-bottom: 1px solid gray;flex-grow: 1;}#sk-container-id-1 div.sk-label:hover label.sk-toggleable__label {background-color: #d4ebff;}#sk-container-id-1 div.sk-serial::before {content: \"\";position: absolute;border-left: 1px solid gray;box-sizing: border-box;top: 0;bottom: 0;left: 50%;z-index: 0;}#sk-container-id-1 div.sk-serial {display: flex;flex-direction: column;align-items: center;background-color: white;padding-right: 0.2em;padding-left: 0.2em;position: relative;}#sk-container-id-1 div.sk-item {position: relative;z-index: 1;}#sk-container-id-1 div.sk-parallel {display: flex;align-items: stretch;justify-content: center;background-color: white;position: relative;}#sk-container-id-1 div.sk-item::before, #sk-container-id-1 div.sk-parallel-item::before {content: \"\";position: absolute;border-left: 1px solid gray;box-sizing: border-box;top: 0;bottom: 0;left: 50%;z-index: -1;}#sk-container-id-1 div.sk-parallel-item {display: flex;flex-direction: column;z-index: 1;position: relative;background-color: white;}#sk-container-id-1 div.sk-parallel-item:first-child::after {align-self: flex-end;width: 50%;}#sk-container-id-1 div.sk-parallel-item:last-child::after {align-self: flex-start;width: 50%;}#sk-container-id-1 div.sk-parallel-item:only-child::after {width: 0;}#sk-container-id-1 div.sk-dashed-wrapped {border: 1px dashed gray;margin: 0 0.4em 0.5em 0.4em;box-sizing: border-box;padding-bottom: 0.4em;background-color: white;}#sk-container-id-1 div.sk-label label {font-family: monospace;font-weight: bold;display: inline-block;line-height: 1.2em;}#sk-container-id-1 div.sk-label-container {text-align: center;}#sk-container-id-1 div.sk-container {/* jupyter's `normalize.less` sets `[hidden] { display: none; }` but bootstrap.min.css set `[hidden] { display: none !important; }` so we also need the `!important` here to be able to override the default hidden behavior on the sphinx rendered scikit-learn.org. See: https://github.com/scikit-learn/scikit-learn/issues/21755 */display: inline-block !important;position: relative;}#sk-container-id-1 div.sk-text-repr-fallback {display: none;}</style><div id=\"sk-container-id-1\" class=\"sk-top-container\"><div class=\"sk-text-repr-fallback\"><pre>GridSearchCV(cv=StratifiedKFold(n_splits=5, random_state=None, shuffle=False),\n",
       "             estimator=LogisticRegression(max_iter=1000),\n",
       "             param_grid={&#x27;C&#x27;: [0.001, 0.01, 0.1, 1, 10, 100, 1000, 10000],\n",
       "                         &#x27;penalty&#x27;: [&#x27;l2&#x27;]},\n",
       "             scoring=&#x27;accuracy&#x27;)</pre><b>In a Jupyter environment, please rerun this cell to show the HTML representation or trust the notebook. <br />On GitHub, the HTML representation is unable to render, please try loading this page with nbviewer.org.</b></div><div class=\"sk-container\" hidden><div class=\"sk-item sk-dashed-wrapped\"><div class=\"sk-label-container\"><div class=\"sk-label sk-toggleable\"><input class=\"sk-toggleable__control sk-hidden--visually\" id=\"sk-estimator-id-1\" type=\"checkbox\" ><label for=\"sk-estimator-id-1\" class=\"sk-toggleable__label sk-toggleable__label-arrow\">GridSearchCV</label><div class=\"sk-toggleable__content\"><pre>GridSearchCV(cv=StratifiedKFold(n_splits=5, random_state=None, shuffle=False),\n",
       "             estimator=LogisticRegression(max_iter=1000),\n",
       "             param_grid={&#x27;C&#x27;: [0.001, 0.01, 0.1, 1, 10, 100, 1000, 10000],\n",
       "                         &#x27;penalty&#x27;: [&#x27;l2&#x27;]},\n",
       "             scoring=&#x27;accuracy&#x27;)</pre></div></div></div><div class=\"sk-parallel\"><div class=\"sk-parallel-item\"><div class=\"sk-item\"><div class=\"sk-label-container\"><div class=\"sk-label sk-toggleable\"><input class=\"sk-toggleable__control sk-hidden--visually\" id=\"sk-estimator-id-2\" type=\"checkbox\" ><label for=\"sk-estimator-id-2\" class=\"sk-toggleable__label sk-toggleable__label-arrow\">estimator: LogisticRegression</label><div class=\"sk-toggleable__content\"><pre>LogisticRegression(max_iter=1000)</pre></div></div></div><div class=\"sk-serial\"><div class=\"sk-item\"><div class=\"sk-estimator sk-toggleable\"><input class=\"sk-toggleable__control sk-hidden--visually\" id=\"sk-estimator-id-3\" type=\"checkbox\" ><label for=\"sk-estimator-id-3\" class=\"sk-toggleable__label sk-toggleable__label-arrow\">LogisticRegression</label><div class=\"sk-toggleable__content\"><pre>LogisticRegression(max_iter=1000)</pre></div></div></div></div></div></div></div></div></div></div>"
      ],
      "text/plain": [
       "GridSearchCV(cv=StratifiedKFold(n_splits=5, random_state=None, shuffle=False),\n",
       "             estimator=LogisticRegression(max_iter=1000),\n",
       "             param_grid={'C': [0.001, 0.01, 0.1, 1, 10, 100, 1000, 10000],\n",
       "                         'penalty': ['l2']},\n",
       "             scoring='accuracy')"
      ]
     },
     "execution_count": 14,
     "metadata": {},
     "output_type": "execute_result"
    }
   ],
   "source": [
    "# Hyperparameter tuning for logistic regression model (with L2 regularization)\n",
    "Log_model = LogisticRegression(max_iter = 1000)\n",
    "\n",
    "grid_values = {'C':[0.001,0.01, 0.1, 1, 10, 100, 1000, 10000], 'penalty': ['l2']}\n",
    "\n",
    "cross_validation = StratifiedKFold(n_splits = 5)\n",
    "\n",
    "grid_log_model = GridSearchCV(Log_model, param_grid = grid_values, scoring = 'accuracy', cv = cross_validation)\n",
    "grid_log_model.fit(X_train, y_train)"
   ]
  },
  {
   "cell_type": "code",
   "execution_count": 15,
   "id": "0a325f5e",
   "metadata": {},
   "outputs": [
    {
     "data": {
      "text/plain": [
       "{'C': 10000, 'penalty': 'l2'}"
      ]
     },
     "execution_count": 15,
     "metadata": {},
     "output_type": "execute_result"
    }
   ],
   "source": [
    "# Get best params for ridge regression model\n",
    "grid_log_model.best_params_"
   ]
  },
  {
   "cell_type": "code",
   "execution_count": 16,
   "id": "bfe9e149",
   "metadata": {},
   "outputs": [
    {
     "name": "stdout",
     "output_type": "stream",
     "text": [
      "              precision    recall  f1-score   support\n",
      "\n",
      "           0       0.85      0.94      0.89      5026\n",
      "           1       0.70      0.45      0.55      1487\n",
      "\n",
      "    accuracy                           0.83      6513\n",
      "   macro avg       0.77      0.70      0.72      6513\n",
      "weighted avg       0.82      0.83      0.82      6513\n",
      "\n"
     ]
    }
   ],
   "source": [
    "# Get classification model for best ridge regression model\n",
    "y_pred_lr = grid_log_model.predict(X_test)\n",
    "print(classification_report(y_test, y_pred_lr))"
   ]
  },
  {
   "cell_type": "code",
   "execution_count": 17,
   "id": "f7966561",
   "metadata": {},
   "outputs": [
    {
     "name": "stdout",
     "output_type": "stream",
     "text": [
      "Best parameters found:  {'max_depth': 6, 'n_estimators': 30}\n"
     ]
    }
   ],
   "source": [
    "# Hyperparameter tuning for XGBoost model\n",
    "grid_values = {'max_depth': [1, 2, 3, 4, 5, 6, 7, 8],\n",
    "                'n_estimators' : [2, 3, 5, 10, 15, 20, 30, 50]}\n",
    "\n",
    "xgb = XGBClassifier()\n",
    "\n",
    "cross_validation = StratifiedKFold(n_splits = 5)\n",
    "\n",
    "grid_xgb_model = GridSearchCV(xgb, param_grid = grid_values,scoring = \"accuracy\", cv = cross_validation)\n",
    "grid_xgb_model.fit(X_train, y_train)\n",
    "\n",
    "print(\"Best parameters found: \", grid_xgb_model.best_params_)"
   ]
  },
  {
   "cell_type": "code",
   "execution_count": 18,
   "id": "81df6807",
   "metadata": {},
   "outputs": [
    {
     "name": "stdout",
     "output_type": "stream",
     "text": [
      "              precision    recall  f1-score   support\n",
      "\n",
      "           0       0.90      0.94      0.92      5026\n",
      "           1       0.75      0.66      0.70      1487\n",
      "\n",
      "    accuracy                           0.87      6513\n",
      "   macro avg       0.83      0.80      0.81      6513\n",
      "weighted avg       0.87      0.87      0.87      6513\n",
      "\n"
     ]
    }
   ],
   "source": [
    "# Get classification report for best XGBoost model\n",
    "y_pred_xgb = grid_xgb_model.predict(X_test)\n",
    "print(classification_report(y_test, y_pred_xgb))"
   ]
  },
  {
   "cell_type": "markdown",
   "id": "11d1268b",
   "metadata": {},
   "source": [
    "## Final Training\n",
    "\n",
    "We train the chosen model on the entire dataset, and then save it for future use."
   ]
  },
  {
   "cell_type": "code",
   "execution_count": 19,
   "id": "712c624b",
   "metadata": {},
   "outputs": [
    {
     "name": "stdout",
     "output_type": "stream",
     "text": [
      "              precision    recall  f1-score   support\n",
      "\n",
      "           0       0.90      0.94      0.92      5026\n",
      "           1       0.75      0.66      0.70      1487\n",
      "\n",
      "    accuracy                           0.87      6513\n",
      "   macro avg       0.83      0.80      0.81      6513\n",
      "weighted avg       0.87      0.87      0.87      6513\n",
      "\n"
     ]
    }
   ],
   "source": [
    "# Chosen model\n",
    "xgb_final = XGBClassifier(max_depth = 6, n_estimators = 30)\n",
    "xgb_final.fit(X_train, y_train)\n",
    "\n",
    "y_preds = xgb_final.predict(X_test)\n",
    "print(classification_report(y_test, y_preds))"
   ]
  },
  {
   "cell_type": "code",
   "execution_count": 20,
   "id": "c84859bd",
   "metadata": {},
   "outputs": [],
   "source": [
    "# Save model\n",
    "filepath = '../model/xgb_model.pkl'\n",
    "#dump(xgb_final, open(filepath, 'wb'))"
   ]
  },
  {
   "cell_type": "markdown",
   "id": "7877a620",
   "metadata": {},
   "source": [
    "## Model Inference\n",
    "\n",
    "Below, we show how to use the trained model for prediction."
   ]
  },
  {
   "cell_type": "code",
   "execution_count": 21,
   "id": "b32cc80a",
   "metadata": {},
   "outputs": [],
   "source": [
    "# Get data for prediction\n",
    "df = pd.read_csv('../data/census_intermediate.csv')"
   ]
  },
  {
   "cell_type": "code",
   "execution_count": 22,
   "id": "56c9d841",
   "metadata": {},
   "outputs": [],
   "source": [
    "# Preprocessing target feature\n",
    "df['salary'] = df['salary'].replace({'<=50K': 0, '>50K':1})"
   ]
  },
  {
   "cell_type": "code",
   "execution_count": 23,
   "id": "c9cd4ce0",
   "metadata": {},
   "outputs": [
    {
     "name": "stdout",
     "output_type": "stream",
     "text": [
      "Encoding for workclass: ... done\n",
      "Encoding for marital-status: ... done\n",
      "Encoding for occupation: ... done\n",
      "Encoding for relationship: ... done\n",
      "Encoding for race: ... done\n",
      "Encoding for sex: ... done\n",
      "Encoding for native-country: ... done\n"
     ]
    }
   ],
   "source": [
    "# Get encoder for categorical features' preprocessing\n",
    "LE_Features = ['workclass', 'marital-status', 'occupation', \n",
    "               'relationship', 'race','sex', 'native-country']\n",
    "\n",
    "for feature in LE_Features:\n",
    "    filepath = '../model/{}_encoder.pkl'.format(feature)\n",
    "    le = load(open(filepath, 'rb'))\n",
    "    df[feature] = le.transform(df[feature])\n",
    "    print('Encoding for {}: ... done'.format(feature))"
   ]
  },
  {
   "cell_type": "code",
   "execution_count": 24,
   "id": "49956ebf",
   "metadata": {},
   "outputs": [],
   "source": [
    "# Split data\n",
    "y = df['salary']\n",
    "X = df.drop(['salary', 'education'], axis = 1)"
   ]
  },
  {
   "cell_type": "code",
   "execution_count": 25,
   "id": "74cb2109",
   "metadata": {},
   "outputs": [],
   "source": [
    "# Get scaler and preprocess numerical features\n",
    "filepath = '../model/robust_scaler.pkl'\n",
    "scaler = load(open(filepath, 'rb'))\n",
    "\n",
    "X = scaler.transform(X)"
   ]
  },
  {
   "cell_type": "code",
   "execution_count": 26,
   "id": "e7ef3743",
   "metadata": {},
   "outputs": [
    {
     "name": "stdout",
     "output_type": "stream",
     "text": [
      "              precision    recall  f1-score   support\n",
      "\n",
      "           0       0.95      0.90      0.92     25886\n",
      "           1       0.68      0.80      0.74      6675\n",
      "\n",
      "    accuracy                           0.88     32561\n",
      "   macro avg       0.81      0.85      0.83     32561\n",
      "weighted avg       0.89      0.88      0.89     32561\n",
      "\n"
     ]
    }
   ],
   "source": [
    "# Get model for inference\n",
    "filepath = '../model/xgb_model.pkl'\n",
    "model = load(open(filepath, 'rb'))\n",
    "\n",
    "y_preds = model.predict(X)\n",
    "print(classification_report(y_preds, y))"
   ]
  },
  {
   "cell_type": "code",
   "execution_count": 27,
   "id": "8603f9b8",
   "metadata": {},
   "outputs": [],
   "source": [
    "# Function to combine all preprocessing activities\n",
    "def process_data(data_df):\n",
    "    data_df['salary'] = data_df['salary'].replace({'<=50K': 0, '>50K':1})\n",
    "    LE_Features = ['workclass', 'marital-status', 'occupation', \n",
    "                   'relationship', 'race','sex', 'native-country']\n",
    "\n",
    "    for feature in LE_Features:\n",
    "        filepath = '../model/{}_encoder.pkl'.format(feature)\n",
    "        le = load(open(filepath, 'rb'))\n",
    "        data_df[feature] = le.transform(data_df[feature])\n",
    "        #print('Encoding for {}: ... done'.format(feature))\n",
    "        \n",
    "    y = data_df['salary']\n",
    "    X = data_df.drop(['salary', 'education'], axis = 1)\n",
    "    \n",
    "    filepath = '../model/robust_scaler.pkl'\n",
    "    scaler = load(open(filepath, 'rb'))\n",
    "\n",
    "    X = scaler.transform(X)\n",
    "    \n",
    "    return X,y"
   ]
  },
  {
   "cell_type": "code",
   "execution_count": 28,
   "id": "5057412a",
   "metadata": {},
   "outputs": [],
   "source": [
    "# Store predicted values\n",
    "df['Predicted'] = y_preds"
   ]
  },
  {
   "cell_type": "code",
   "execution_count": 29,
   "id": "92474cf9",
   "metadata": {},
   "outputs": [],
   "source": [
    "# Save data & prediction results\n",
    "#df.to_csv('../data/Predictions.csv', index = False)"
   ]
  },
  {
   "cell_type": "markdown",
   "id": "9c9348de",
   "metadata": {},
   "source": [
    "## Assessing Model Performance on Slices\n",
    "\n",
    "Below, we analyse our XGBoost model performance on data slices based on categorical features."
   ]
  },
  {
   "cell_type": "code",
   "execution_count": 46,
   "id": "f51c3cd8",
   "metadata": {},
   "outputs": [],
   "source": [
    "# Get data\n",
    "df = pd.read_csv('../data/census_intermediate.csv')"
   ]
  },
  {
   "cell_type": "code",
   "execution_count": 31,
   "id": "9baacb96",
   "metadata": {},
   "outputs": [],
   "source": [
    "# Split X & y\n",
    "y = df['salary']\n",
    "X = df.drop('salary', axis = 1)"
   ]
  },
  {
   "cell_type": "code",
   "execution_count": 32,
   "id": "3976e48e",
   "metadata": {},
   "outputs": [],
   "source": [
    "# Split training & testing data\n",
    "X_train, X_test, y_train, y_test = train_test_split(X, y, test_size = 0.2, random_state = 1)"
   ]
  },
  {
   "cell_type": "code",
   "execution_count": 33,
   "id": "4620f099",
   "metadata": {},
   "outputs": [
    {
     "name": "stdout",
     "output_type": "stream",
     "text": [
      "{'Self-emp-inc', '?', 'Without-pay', 'Self-emp-not-inc', 'Private', 'Never-worked', 'State-gov', 'Local-gov', 'Federal-gov'}\n",
      "9\n",
      "{'Self-emp-inc', '?', 'Without-pay', 'Self-emp-not-inc', 'Private', 'Never-worked', 'State-gov', 'Local-gov', 'Federal-gov'}\n",
      "9\n",
      "\n",
      "\n",
      "{'Assoc-acdm', 'Prof-school', '11th', '9th', '10th', 'Masters', 'Some-college', '7th-8th', 'Assoc-voc', 'Preschool', 'HS-grad', 'Doctorate', 'Bachelors', '12th', '1st-4th', '5th-6th'}\n",
      "16\n",
      "{'Assoc-acdm', 'Prof-school', '11th', '10th', '9th', '7th-8th', 'Some-college', 'Masters', 'Assoc-voc', 'Preschool', 'HS-grad', 'Doctorate', 'Bachelors', '12th', '1st-4th', '5th-6th'}\n",
      "16\n",
      "\n",
      "\n",
      "{'Married-spouse-absent', 'Never-married', 'Divorced', 'Married-civ-spouse', 'Widowed', 'Married-AF-spouse', 'Separated'}\n",
      "7\n",
      "{'Married-spouse-absent', 'Never-married', 'Divorced', 'Married-civ-spouse', 'Widowed', 'Married-AF-spouse', 'Separated'}\n",
      "7\n",
      "\n",
      "\n",
      "{'Craft-repair', 'Tech-support', '?', 'Sales', 'Machine-op-inspct', 'Protective-serv', 'Transport-moving', 'Handlers-cleaners', 'Adm-clerical', 'Exec-managerial', 'Priv-house-serv', 'Other-service', 'Farming-fishing', 'Armed-Forces', 'Prof-specialty'}\n",
      "15\n",
      "{'Craft-repair', 'Tech-support', '?', 'Sales', 'Machine-op-inspct', 'Protective-serv', 'Transport-moving', 'Handlers-cleaners', 'Adm-clerical', 'Exec-managerial', 'Priv-house-serv', 'Other-service', 'Farming-fishing', 'Armed-Forces', 'Prof-specialty'}\n",
      "15\n",
      "\n",
      "\n",
      "{'Not-in-family', 'Other-relative', 'Husband', 'Own-child', 'Unmarried', 'Wife'}\n",
      "6\n",
      "{'Not-in-family', 'Other-relative', 'Husband', 'Own-child', 'Unmarried', 'Wife'}\n",
      "6\n",
      "\n",
      "\n",
      "{'White', 'Black', 'Other', 'Amer-Indian-Eskimo', 'Asian-Pac-Islander'}\n",
      "5\n",
      "{'White', 'Black', 'Other', 'Amer-Indian-Eskimo', 'Asian-Pac-Islander'}\n",
      "5\n",
      "\n",
      "\n",
      "{' Female', ' Male'}\n",
      "2\n",
      "{' Female', ' Male'}\n",
      "2\n",
      "\n",
      "\n",
      "{'Germany', 'Canada', 'Jamaica', 'Taiwan', 'Hungary', 'China', 'Philippines', 'Dominican-Republic', 'Columbia', 'Poland', 'Laos', 'Japan', 'Iran', 'United-States', 'Hong', 'Honduras', 'Mexico', 'Puerto-Rico', 'Outlying-US(Guam-USVI-etc)', 'Scotland', 'Yugoslavia', 'Thailand', 'France', 'Cambodia', 'Vietnam', 'India', 'Italy', 'El-Salvador', 'Portugal', 'Ireland', 'Nicaragua', '?', 'Greece', 'Trinadad&Tobago', 'Peru', 'England', 'South', 'Guatemala', 'Cuba', 'Haiti', 'Holand-Netherlands', 'Ecuador'}\n",
      "42\n",
      "{'Germany', 'Canada', 'Jamaica', 'Taiwan', 'Hungary', 'China', 'Philippines', 'Dominican-Republic', 'Columbia', 'Poland', 'Laos', 'Japan', 'Iran', 'United-States', 'Hong', 'Honduras', 'Mexico', 'Puerto-Rico', 'Outlying-US(Guam-USVI-etc)', 'Scotland', 'Yugoslavia', 'Thailand', 'France', 'Cambodia', 'Vietnam', 'India', 'Italy', 'El-Salvador', 'Portugal', 'Ireland', 'Nicaragua', '?', 'Greece', 'Trinadad&Tobago', 'Peru', 'England', 'South', 'Guatemala', 'Cuba', 'Haiti', 'Holand-Netherlands', 'Ecuador'}\n",
      "42\n",
      "\n",
      "\n"
     ]
    }
   ],
   "source": [
    "# Ensure test subset has all categories\n",
    "LE_Features = ['workclass', 'education', 'marital-status', 'occupation', \n",
    "               'relationship', 'race','sex', 'native-country']\n",
    "\n",
    "for feature in LE_Features:\n",
    "    print(set(df[feature]))\n",
    "    print(len(set(df[feature])))\n",
    "    print(set(X_test[feature]))\n",
    "    print(len(set(X_test[feature])))\n",
    "    print('\\n')"
   ]
  },
  {
   "cell_type": "code",
   "execution_count": 34,
   "id": "739331e9",
   "metadata": {},
   "outputs": [],
   "source": [
    "# Data subset to be used for assessing model performance\n",
    "data = X_test.join(y_test)"
   ]
  },
  {
   "cell_type": "code",
   "execution_count": 35,
   "id": "9a02b1d5",
   "metadata": {},
   "outputs": [
    {
     "data": {
      "text/html": [
       "<div>\n",
       "<style scoped>\n",
       "    .dataframe tbody tr th:only-of-type {\n",
       "        vertical-align: middle;\n",
       "    }\n",
       "\n",
       "    .dataframe tbody tr th {\n",
       "        vertical-align: top;\n",
       "    }\n",
       "\n",
       "    .dataframe thead th {\n",
       "        text-align: right;\n",
       "    }\n",
       "</style>\n",
       "<table border=\"1\" class=\"dataframe\">\n",
       "  <thead>\n",
       "    <tr style=\"text-align: right;\">\n",
       "      <th></th>\n",
       "      <th>age</th>\n",
       "      <th>workclass</th>\n",
       "      <th>fnlgt</th>\n",
       "      <th>education</th>\n",
       "      <th>education-num</th>\n",
       "      <th>marital-status</th>\n",
       "      <th>occupation</th>\n",
       "      <th>relationship</th>\n",
       "      <th>race</th>\n",
       "      <th>sex</th>\n",
       "      <th>capital-gain</th>\n",
       "      <th>capital-loss</th>\n",
       "      <th>hours-per-week</th>\n",
       "      <th>native-country</th>\n",
       "      <th>salary</th>\n",
       "    </tr>\n",
       "  </thead>\n",
       "  <tbody>\n",
       "    <tr>\n",
       "      <th>9646</th>\n",
       "      <td>62</td>\n",
       "      <td>Self-emp-not-inc</td>\n",
       "      <td>26911</td>\n",
       "      <td>7th-8th</td>\n",
       "      <td>4</td>\n",
       "      <td>Widowed</td>\n",
       "      <td>Other-service</td>\n",
       "      <td>Not-in-family</td>\n",
       "      <td>White</td>\n",
       "      <td>Female</td>\n",
       "      <td>0</td>\n",
       "      <td>0</td>\n",
       "      <td>66</td>\n",
       "      <td>United-States</td>\n",
       "      <td>&lt;=50K</td>\n",
       "    </tr>\n",
       "    <tr>\n",
       "      <th>709</th>\n",
       "      <td>18</td>\n",
       "      <td>Private</td>\n",
       "      <td>208103</td>\n",
       "      <td>11th</td>\n",
       "      <td>7</td>\n",
       "      <td>Never-married</td>\n",
       "      <td>Other-service</td>\n",
       "      <td>Other-relative</td>\n",
       "      <td>White</td>\n",
       "      <td>Male</td>\n",
       "      <td>0</td>\n",
       "      <td>0</td>\n",
       "      <td>25</td>\n",
       "      <td>United-States</td>\n",
       "      <td>&lt;=50K</td>\n",
       "    </tr>\n",
       "    <tr>\n",
       "      <th>7385</th>\n",
       "      <td>25</td>\n",
       "      <td>Private</td>\n",
       "      <td>102476</td>\n",
       "      <td>Bachelors</td>\n",
       "      <td>13</td>\n",
       "      <td>Never-married</td>\n",
       "      <td>Farming-fishing</td>\n",
       "      <td>Own-child</td>\n",
       "      <td>White</td>\n",
       "      <td>Male</td>\n",
       "      <td>27828</td>\n",
       "      <td>0</td>\n",
       "      <td>50</td>\n",
       "      <td>United-States</td>\n",
       "      <td>&gt;50K</td>\n",
       "    </tr>\n",
       "    <tr>\n",
       "      <th>16671</th>\n",
       "      <td>33</td>\n",
       "      <td>Private</td>\n",
       "      <td>511517</td>\n",
       "      <td>HS-grad</td>\n",
       "      <td>9</td>\n",
       "      <td>Married-civ-spouse</td>\n",
       "      <td>Prof-specialty</td>\n",
       "      <td>Husband</td>\n",
       "      <td>White</td>\n",
       "      <td>Male</td>\n",
       "      <td>0</td>\n",
       "      <td>0</td>\n",
       "      <td>40</td>\n",
       "      <td>United-States</td>\n",
       "      <td>&lt;=50K</td>\n",
       "    </tr>\n",
       "    <tr>\n",
       "      <th>21932</th>\n",
       "      <td>36</td>\n",
       "      <td>Private</td>\n",
       "      <td>292570</td>\n",
       "      <td>11th</td>\n",
       "      <td>7</td>\n",
       "      <td>Never-married</td>\n",
       "      <td>Machine-op-inspct</td>\n",
       "      <td>Unmarried</td>\n",
       "      <td>White</td>\n",
       "      <td>Female</td>\n",
       "      <td>0</td>\n",
       "      <td>0</td>\n",
       "      <td>40</td>\n",
       "      <td>United-States</td>\n",
       "      <td>&lt;=50K</td>\n",
       "    </tr>\n",
       "    <tr>\n",
       "      <th>...</th>\n",
       "      <td>...</td>\n",
       "      <td>...</td>\n",
       "      <td>...</td>\n",
       "      <td>...</td>\n",
       "      <td>...</td>\n",
       "      <td>...</td>\n",
       "      <td>...</td>\n",
       "      <td>...</td>\n",
       "      <td>...</td>\n",
       "      <td>...</td>\n",
       "      <td>...</td>\n",
       "      <td>...</td>\n",
       "      <td>...</td>\n",
       "      <td>...</td>\n",
       "      <td>...</td>\n",
       "    </tr>\n",
       "    <tr>\n",
       "      <th>5889</th>\n",
       "      <td>39</td>\n",
       "      <td>Private</td>\n",
       "      <td>146091</td>\n",
       "      <td>Bachelors</td>\n",
       "      <td>13</td>\n",
       "      <td>Married-civ-spouse</td>\n",
       "      <td>Prof-specialty</td>\n",
       "      <td>Wife</td>\n",
       "      <td>White</td>\n",
       "      <td>Female</td>\n",
       "      <td>0</td>\n",
       "      <td>0</td>\n",
       "      <td>20</td>\n",
       "      <td>United-States</td>\n",
       "      <td>&gt;50K</td>\n",
       "    </tr>\n",
       "    <tr>\n",
       "      <th>25723</th>\n",
       "      <td>17</td>\n",
       "      <td>Private</td>\n",
       "      <td>347322</td>\n",
       "      <td>10th</td>\n",
       "      <td>6</td>\n",
       "      <td>Never-married</td>\n",
       "      <td>Sales</td>\n",
       "      <td>Own-child</td>\n",
       "      <td>White</td>\n",
       "      <td>Female</td>\n",
       "      <td>0</td>\n",
       "      <td>0</td>\n",
       "      <td>20</td>\n",
       "      <td>United-States</td>\n",
       "      <td>&lt;=50K</td>\n",
       "    </tr>\n",
       "    <tr>\n",
       "      <th>29514</th>\n",
       "      <td>35</td>\n",
       "      <td>Private</td>\n",
       "      <td>290226</td>\n",
       "      <td>HS-grad</td>\n",
       "      <td>9</td>\n",
       "      <td>Never-married</td>\n",
       "      <td>Transport-moving</td>\n",
       "      <td>Own-child</td>\n",
       "      <td>White</td>\n",
       "      <td>Male</td>\n",
       "      <td>0</td>\n",
       "      <td>0</td>\n",
       "      <td>40</td>\n",
       "      <td>United-States</td>\n",
       "      <td>&lt;=50K</td>\n",
       "    </tr>\n",
       "    <tr>\n",
       "      <th>1600</th>\n",
       "      <td>30</td>\n",
       "      <td>Private</td>\n",
       "      <td>27207</td>\n",
       "      <td>11th</td>\n",
       "      <td>7</td>\n",
       "      <td>Married-civ-spouse</td>\n",
       "      <td>Craft-repair</td>\n",
       "      <td>Husband</td>\n",
       "      <td>White</td>\n",
       "      <td>Male</td>\n",
       "      <td>0</td>\n",
       "      <td>0</td>\n",
       "      <td>45</td>\n",
       "      <td>United-States</td>\n",
       "      <td>&lt;=50K</td>\n",
       "    </tr>\n",
       "    <tr>\n",
       "      <th>639</th>\n",
       "      <td>52</td>\n",
       "      <td>Self-emp-not-inc</td>\n",
       "      <td>289436</td>\n",
       "      <td>Doctorate</td>\n",
       "      <td>16</td>\n",
       "      <td>Married-civ-spouse</td>\n",
       "      <td>Prof-specialty</td>\n",
       "      <td>Husband</td>\n",
       "      <td>White</td>\n",
       "      <td>Male</td>\n",
       "      <td>0</td>\n",
       "      <td>0</td>\n",
       "      <td>60</td>\n",
       "      <td>United-States</td>\n",
       "      <td>&gt;50K</td>\n",
       "    </tr>\n",
       "  </tbody>\n",
       "</table>\n",
       "<p>6513 rows × 15 columns</p>\n",
       "</div>"
      ],
      "text/plain": [
       "       age         workclass   fnlgt  education  education-num  \\\n",
       "9646    62  Self-emp-not-inc   26911    7th-8th              4   \n",
       "709     18           Private  208103       11th              7   \n",
       "7385    25           Private  102476  Bachelors             13   \n",
       "16671   33           Private  511517    HS-grad              9   \n",
       "21932   36           Private  292570       11th              7   \n",
       "...    ...               ...     ...        ...            ...   \n",
       "5889    39           Private  146091  Bachelors             13   \n",
       "25723   17           Private  347322       10th              6   \n",
       "29514   35           Private  290226    HS-grad              9   \n",
       "1600    30           Private   27207       11th              7   \n",
       "639     52  Self-emp-not-inc  289436  Doctorate             16   \n",
       "\n",
       "           marital-status         occupation    relationship   race      sex  \\\n",
       "9646              Widowed      Other-service   Not-in-family  White   Female   \n",
       "709         Never-married      Other-service  Other-relative  White     Male   \n",
       "7385        Never-married    Farming-fishing       Own-child  White     Male   \n",
       "16671  Married-civ-spouse     Prof-specialty         Husband  White     Male   \n",
       "21932       Never-married  Machine-op-inspct       Unmarried  White   Female   \n",
       "...                   ...                ...             ...    ...      ...   \n",
       "5889   Married-civ-spouse     Prof-specialty            Wife  White   Female   \n",
       "25723       Never-married              Sales       Own-child  White   Female   \n",
       "29514       Never-married   Transport-moving       Own-child  White     Male   \n",
       "1600   Married-civ-spouse       Craft-repair         Husband  White     Male   \n",
       "639    Married-civ-spouse     Prof-specialty         Husband  White     Male   \n",
       "\n",
       "       capital-gain  capital-loss  hours-per-week native-country salary  \n",
       "9646              0             0              66  United-States  <=50K  \n",
       "709               0             0              25  United-States  <=50K  \n",
       "7385          27828             0              50  United-States   >50K  \n",
       "16671             0             0              40  United-States  <=50K  \n",
       "21932             0             0              40  United-States  <=50K  \n",
       "...             ...           ...             ...            ...    ...  \n",
       "5889              0             0              20  United-States   >50K  \n",
       "25723             0             0              20  United-States  <=50K  \n",
       "29514             0             0              40  United-States  <=50K  \n",
       "1600              0             0              45  United-States  <=50K  \n",
       "639               0             0              60  United-States   >50K  \n",
       "\n",
       "[6513 rows x 15 columns]"
      ]
     },
     "execution_count": 35,
     "metadata": {},
     "output_type": "execute_result"
    }
   ],
   "source": [
    "# Snippet of data\n",
    "data"
   ]
  },
  {
   "cell_type": "code",
   "execution_count": 36,
   "id": "71412fbb",
   "metadata": {},
   "outputs": [],
   "source": [
    "# Prepare df to store model performance metrics on data slices\n",
    "cols = ['Feature', 'Slice', 'Accuracy', 'Precision', 'Recall', 'F1 Score']\n",
    "slice_performance_df = pd.DataFrame(columns = cols)"
   ]
  },
  {
   "cell_type": "code",
   "execution_count": 37,
   "id": "382b845f",
   "metadata": {},
   "outputs": [],
   "source": [
    "# Get performance on each data slice\n",
    "filepath = '../model/xgb_model.pkl'\n",
    "model = load(open(filepath, 'rb'))\n",
    "\n",
    "Cat_Features = ['workclass', 'education', 'marital-status', 'occupation', \n",
    "               'relationship', 'race','sex', 'native-country']\n",
    "\n",
    "for feature in Cat_Features:\n",
    "    for slc in data[feature].unique():\n",
    "        df_slice = data[data[feature] == slc]\n",
    "        X_slice, y_slice = process_data(df_slice)\n",
    "        y_pred_slice = model.predict(X_slice)\n",
    "        acc = accuracy_score(y_pred_slice, y_slice)\n",
    "        prec = precision_score(y_pred_slice, y_slice, zero_division = 0)\n",
    "        rec = recall_score(y_pred_slice, y_slice, zero_division = 0)\n",
    "        f1 = f1_score(y_pred_slice, y_slice, zero_division = 0)\n",
    "        \n",
    "        row_data = {'Feature':feature, 'Slice':slc, 'Accuracy':acc,\n",
    "                    'Precision':prec, 'Recall':rec, 'F1 Score':f1}\n",
    "        slice_performance_df = slice_performance_df.append(row_data,\n",
    "                                                           ignore_index = True)\n"
   ]
  },
  {
   "cell_type": "code",
   "execution_count": 38,
   "id": "d88999c3",
   "metadata": {},
   "outputs": [],
   "source": [
    "# Store results\n",
    "path = '../slice_output.txt'\n",
    "\n",
    "#export DataFrame to text file\n",
    "#with open(path, 'a') as f:\n",
    "#    df_string = slice_performance_df.to_string(header=True, index=False)\n",
    "#    f.write(df_string)"
   ]
  }
 ],
 "metadata": {
  "kernelspec": {
   "display_name": "Python 3 (ipykernel)",
   "language": "python",
   "name": "python3"
  },
  "language_info": {
   "codemirror_mode": {
    "name": "ipython",
    "version": 3
   },
   "file_extension": ".py",
   "mimetype": "text/x-python",
   "name": "python",
   "nbconvert_exporter": "python",
   "pygments_lexer": "ipython3",
   "version": "3.8.16"
  }
 },
 "nbformat": 4,
 "nbformat_minor": 5
}
