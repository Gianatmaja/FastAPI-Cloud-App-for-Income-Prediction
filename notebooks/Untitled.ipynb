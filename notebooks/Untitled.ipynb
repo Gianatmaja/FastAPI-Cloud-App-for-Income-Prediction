{
 "cells": [
  {
   "cell_type": "code",
   "execution_count": 2,
   "id": "57165a85",
   "metadata": {},
   "outputs": [],
   "source": [
    "# Import required libraries\n",
    "import numpy as np\n",
    "import pandas as pd\n",
    "import warnings\n",
    "import logging\n",
    "\n",
    "from sklearn.preprocessing import LabelEncoder\n",
    "from sklearn.preprocessing import RobustScaler\n",
    "from sklearn.model_selection import train_test_split\n",
    "from sklearn.metrics import accuracy_score, precision_score, recall_score, f1_score\n",
    "from xgboost import XGBClassifier\n",
    "from pickle import dump\n",
    "from pickle import load\n"
   ]
  },
  {
   "cell_type": "code",
   "execution_count": 8,
   "id": "8b64ec13",
   "metadata": {},
   "outputs": [],
   "source": [
    "df = pd.read_csv('../data/census_intermediate.csv')"
   ]
  },
  {
   "cell_type": "code",
   "execution_count": 4,
   "id": "604373e0",
   "metadata": {},
   "outputs": [],
   "source": [
    "y = df['salary']\n",
    "X = df.drop('salary', axis = 1)"
   ]
  },
  {
   "cell_type": "code",
   "execution_count": 5,
   "id": "7c4142bd",
   "metadata": {},
   "outputs": [],
   "source": [
    "X_train, X_test, y_train, y_test = train_test_split(X, y, test_size = 0.2, random_state = 1)"
   ]
  },
  {
   "cell_type": "code",
   "execution_count": 6,
   "id": "50569d5b",
   "metadata": {},
   "outputs": [
    {
     "data": {
      "text/plain": [
       "9646     <=50K\n",
       "709      <=50K\n",
       "7385      >50K\n",
       "16671    <=50K\n",
       "21932    <=50K\n",
       "         ...  \n",
       "5889      >50K\n",
       "25723    <=50K\n",
       "29514    <=50K\n",
       "1600     <=50K\n",
       "639       >50K\n",
       "Name: salary, Length: 6513, dtype: object"
      ]
     },
     "execution_count": 6,
     "metadata": {},
     "output_type": "execute_result"
    }
   ],
   "source": [
    "y_test"
   ]
  },
  {
   "cell_type": "code",
   "execution_count": 7,
   "id": "563a62bd",
   "metadata": {},
   "outputs": [],
   "source": [
    "def process_data(data_df):\n",
    "    data_df['salary'] = data_df['salary'].replace({'<=50K': 0, '>50K':1})\n",
    "    LE_Features = ['workclass', 'marital-status', 'occupation', \n",
    "                   'relationship', 'race','sex', 'native-country']\n",
    "\n",
    "    for feature in LE_Features:\n",
    "        filepath = '../model/{}_encoder.pkl'.format(feature)\n",
    "        le = load(open(filepath, 'rb'))\n",
    "        data_df[feature] = le.transform(data_df[feature])\n",
    "        #print('Encoding for {}: ... done'.format(feature))\n",
    "        \n",
    "    y = data_df['salary']\n",
    "    X = data_df.drop(['salary', 'education'], axis = 1)\n",
    "    \n",
    "    filepath = '../model/robust_scaler.pkl'\n",
    "    scaler = load(open(filepath, 'rb'))\n",
    "\n",
    "    X = scaler.transform(X)\n",
    "    \n",
    "    return X,y"
   ]
  },
  {
   "cell_type": "code",
   "execution_count": 9,
   "id": "89b198ad",
   "metadata": {},
   "outputs": [],
   "source": [
    "X, y = process_data(df)"
   ]
  },
  {
   "cell_type": "code",
   "execution_count": 10,
   "id": "8b24d777",
   "metadata": {},
   "outputs": [
    {
     "data": {
      "text/plain": [
       "array([[ 0.1       ,  3.        , -0.84274115, ...,  0.        ,\n",
       "         0.        ,  0.        ],\n",
       "       [ 0.65      ,  2.        , -0.7944218 , ...,  0.        ,\n",
       "        -5.4       ,  0.        ],\n",
       "       [ 0.05      ,  0.        ,  0.30900203, ...,  0.        ,\n",
       "         0.        ,  0.        ],\n",
       "       ...,\n",
       "       [ 1.05      ,  0.        , -0.22243577, ...,  0.        ,\n",
       "         0.        ,  0.        ],\n",
       "       [-0.75      ,  0.        ,  0.19096774, ...,  0.        ,\n",
       "        -4.        ,  0.        ],\n",
       "       [ 0.75      ,  1.        ,  0.91168899, ...,  0.        ,\n",
       "         0.        ,  0.        ]])"
      ]
     },
     "execution_count": 10,
     "metadata": {},
     "output_type": "execute_result"
    }
   ],
   "source": [
    "X"
   ]
  },
  {
   "cell_type": "code",
   "execution_count": 11,
   "id": "5656eaa4",
   "metadata": {},
   "outputs": [
    {
     "data": {
      "text/plain": [
       "0        0\n",
       "1        0\n",
       "2        0\n",
       "3        0\n",
       "4        0\n",
       "        ..\n",
       "32556    0\n",
       "32557    1\n",
       "32558    0\n",
       "32559    0\n",
       "32560    1\n",
       "Name: salary, Length: 32561, dtype: int64"
      ]
     },
     "execution_count": 11,
     "metadata": {},
     "output_type": "execute_result"
    }
   ],
   "source": [
    "y"
   ]
  },
  {
   "cell_type": "code",
   "execution_count": null,
   "id": "b4b8d1db",
   "metadata": {},
   "outputs": [],
   "source": []
  }
 ],
 "metadata": {
  "kernelspec": {
   "display_name": "Python 3 (ipykernel)",
   "language": "python",
   "name": "python3"
  },
  "language_info": {
   "codemirror_mode": {
    "name": "ipython",
    "version": 3
   },
   "file_extension": ".py",
   "mimetype": "text/x-python",
   "name": "python",
   "nbconvert_exporter": "python",
   "pygments_lexer": "ipython3",
   "version": "3.8.16"
  }
 },
 "nbformat": 4,
 "nbformat_minor": 5
}
